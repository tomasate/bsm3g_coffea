{
 "cells": [
  {
   "cell_type": "code",
   "execution_count": 1,
   "id": "a22113e0-8ad8-437b-8171-91259a252bac",
   "metadata": {},
   "outputs": [],
   "source": [
    "import numpy as np\n",
    "import matplotlib.pyplot as plt\n",
    "from coffea.util import load, save\n",
    "from coffea.processor import accumulate\n",
    "from coffea.lookup_tools.dense_lookup import dense_lookup"
   ]
  },
  {
   "cell_type": "code",
   "execution_count": 2,
   "id": "124bc4ea-d3b9-4454-abe4-44a1a2b64557",
   "metadata": {},
   "outputs": [
    {
     "data": {
      "text/plain": [
       "{'DYJetsToLL': {'eff': Hist(\n",
       "    Variable([20, 60, 90, 120, 150, 180, 210, 240, 300, 500, 1000], name='jet_pt', label='$p_T(\\\\text{jet})$ [GeV]'),\n",
       "    Regular(25, 0, 2.4, name='jet_abseta', label='$|\\\\eta(\\\\text{jet})|$'),\n",
       "    IntCategory([0, 4, 5], name='jet_flavor', label='hadronFlavour${jet}$'),\n",
       "    Regular(2, 0, 2, name='jet_pass_wp', label='pass WP'),\n",
       "    storage=Double()) # Sum: 141199.24493946828},\n",
       " 'SingleTop': {'eff': Hist(\n",
       "    Variable([20, 60, 90, 120, 150, 180, 210, 240, 300, 500, 1000], name='jet_pt', label='$p_T(\\\\text{jet})$ [GeV]'),\n",
       "    Regular(25, 0, 2.4, name='jet_abseta', label='$|\\\\eta(\\\\text{jet})|$'),\n",
       "    IntCategory([0, 4, 5], name='jet_flavor', label='hadronFlavour${jet}$'),\n",
       "    Regular(2, 0, 2, name='jet_pass_wp', label='pass WP'),\n",
       "    storage=Double()) # Sum: 4120593.488584106},\n",
       " 'tt': {'eff': Hist(\n",
       "    Variable([20, 60, 90, 120, 150, 180, 210, 240, 300, 500, 1000], name='jet_pt', label='$p_T(\\\\text{jet})$ [GeV]'),\n",
       "    Regular(25, 0, 2.4, name='jet_abseta', label='$|\\\\eta(\\\\text{jet})|$'),\n",
       "    IntCategory([0, 4, 5], name='jet_flavor', label='hadronFlavour${jet}$'),\n",
       "    Regular(2, 0, 2, name='jet_pass_wp', label='pass WP'),\n",
       "    storage=Double()) # Sum: 4175659.041363148},\n",
       " 'WJetsToLNu': {'eff': Hist(\n",
       "    Variable([20, 60, 90, 120, 150, 180, 210, 240, 300, 500, 1000], name='jet_pt', label='$p_T(\\\\text{jet})$ [GeV]'),\n",
       "    Regular(25, 0, 2.4, name='jet_abseta', label='$|\\\\eta(\\\\text{jet})|$'),\n",
       "    IntCategory([0, 4, 5], name='jet_flavor', label='hadronFlavour${jet}$'),\n",
       "    Regular(2, 0, 2, name='jet_pass_wp', label='pass WP'),\n",
       "    storage=Double()) # Sum: 1124295847.126622},\n",
       " 'Diboson': {'eff': Hist(\n",
       "    Variable([20, 60, 90, 120, 150, 180, 210, 240, 300, 500, 1000], name='jet_pt', label='$p_T(\\\\text{jet})$ [GeV]'),\n",
       "    Regular(25, 0, 2.4, name='jet_abseta', label='$|\\\\eta(\\\\text{jet})|$'),\n",
       "    IntCategory([0, 4, 5], name='jet_flavor', label='hadronFlavour${jet}$'),\n",
       "    Regular(2, 0, 2, name='jet_pass_wp', label='pass WP'),\n",
       "    storage=Double()) # Sum: 65067906.11709715}}"
      ]
     },
     "execution_count": 2,
     "metadata": {},
     "output_type": "execute_result"
    }
   ],
   "source": [
    "# Load processed histograms from btag_eff workflow\n",
    "year = \"2017\"\n",
    "wp = \"medium\"\n",
    "btag_eff_histograms = load(f\"../outputs/btag_eff/{year}/{year}_processed_histograms.coffea\")\n",
    "btag_eff_histograms"
   ]
  },
  {
   "cell_type": "code",
   "execution_count": 3,
   "id": "dfa8a45e-f831-434c-a50d-ebf6917469d8",
   "metadata": {},
   "outputs": [
    {
     "data": {
      "text/plain": [
       "Hist(\n",
       "  Variable([20, 60, 90, 120, 150, 180, 210, 240, 300, 500, 1000], name='jet_pt', label='$p_T(\\\\text{jet})$ [GeV]'),\n",
       "  Regular(25, 0, 2.4, name='jet_abseta', label='$|\\\\eta(\\\\text{jet})|$'),\n",
       "  IntCategory([0, 4, 5], name='jet_flavor', label='hadronFlavour${jet}$'),\n",
       "  Regular(2, 0, 2, name='jet_pass_wp', label='pass WP'),\n",
       "  storage=Double()) # Sum: 1197801205.018606"
      ]
     },
     "execution_count": 3,
     "metadata": {},
     "output_type": "execute_result"
    }
   ],
   "source": [
    "# Accumulate all the samples and \n",
    "btag_efficiency_hist = []\n",
    "for sample in btag_eff_histograms:\n",
    "    btag_efficiency_hist.append(btag_eff_histograms[sample][\"eff\"])\n",
    "btag_efficiency_hist = accumulate(btag_efficiency_hist)\n",
    "btag_efficiency_hist"
   ]
  },
  {
   "cell_type": "code",
   "execution_count": 4,
   "id": "0e403cce-a0f6-4ebc-82fa-effec2c19277",
   "metadata": {
    "tags": []
   },
   "outputs": [],
   "source": [
    "# Compute the b-tagging efficiency\n",
    "efficiency = btag_efficiency_hist[{\"jet_pass_wp\": True}] / btag_efficiency_hist[{\"jet_pass_wp\": sum}]"
   ]
  },
  {
   "cell_type": "code",
   "execution_count": 5,
   "id": "f6c83ae3-b1e3-4ac4-a1f6-f1d5a5b9a9b7",
   "metadata": {},
   "outputs": [
    {
     "data": {
      "text/plain": [
       "3 dimensional histogram with axes:\n",
       "\t1: [  20.   60.   90.  120.  150.  180.  210.  240.  300.  500. 1000.]\n",
       "\t2: [0.    0.096 0.192 0.288 0.384 0.48  0.576 0.672 0.768 0.864 0.96  1.056\n",
       " 1.152 1.248 1.344 1.44  1.536 1.632 1.728 1.824 1.92  2.016 2.112 2.208\n",
       " 2.304 2.4  ]\n",
       "\t3: [0. 1. 2. 3.]"
      ]
     },
     "execution_count": 5,
     "metadata": {},
     "output_type": "execute_result"
    }
   ],
   "source": [
    "# Create a efficiency lookup table\n",
    "efflookup = dense_lookup(efficiency.values(), [ax.edges for ax in efficiency.axes]) \n",
    "efflookup"
   ]
  },
  {
   "cell_type": "code",
   "execution_count": 6,
   "id": "077ab5b0-8e58-488b-83e3-531fba01ce19",
   "metadata": {
    "tags": []
   },
   "outputs": [
    {
     "data": {
      "text/plain": [
       "array([0.01856892, 0.17408551, 0.77472286])"
      ]
     },
     "execution_count": 6,
     "metadata": {},
     "output_type": "execute_result"
    }
   ],
   "source": [
    "# Efficiency at 43 GeV, |eta|=0.2, for light, c, and b quark respectively\n",
    "efflookup(43, 0.1, np.array([0, 1, 2]))"
   ]
  },
  {
   "cell_type": "code",
   "execution_count": 7,
   "id": "7c6e5017-2f8e-4bfd-bb4a-896b064b4b58",
   "metadata": {
    "tags": []
   },
   "outputs": [],
   "source": [
    "# Notice that hadron flavours (0, 4, 5) turn into (0, 1, 2). Let's modify them to their original values\n",
    "efflookup._axes[-1] = np.array([0., 4., 5., 6.]) "
   ]
  },
  {
   "cell_type": "code",
   "execution_count": 8,
   "id": "a70e24ab-0d86-4008-88b2-fdb8346880fc",
   "metadata": {},
   "outputs": [
    {
     "data": {
      "text/plain": [
       "array([0.01856892, 0.17408551, 0.77472286])"
      ]
     },
     "execution_count": 8,
     "metadata": {},
     "output_type": "execute_result"
    }
   ],
   "source": [
    "# Efficiency at 43 GeV, |eta|=0.2, for light, c, and b quark respectively\n",
    "efflookup(43, 0.1, np.array([0, 4, 5]))"
   ]
  },
  {
   "cell_type": "code",
   "execution_count": 9,
   "id": "77f51f71-73de-488b-9099-f05ee28415cb",
   "metadata": {
    "tags": []
   },
   "outputs": [
    {
     "data": {
      "image/png": "[encoded data removed]",
      "text/plain": [
       "<Figure size 720x504 with 2 Axes>"
      ]
     },
     "metadata": {
      "needs_background": "light"
     },
     "output_type": "display_data"
    },
    {
     "data": {
      "image/png": "[encoded data removed]",
      "text/plain": [
       "<Figure size 720x504 with 2 Axes>"
      ]
     },
     "metadata": {
      "needs_background": "light"
     },
     "output_type": "display_data"
    },
    {
     "data": {
      "image/png": "[encoded data removed]",
      "text/plain": [
       "<Figure size 720x504 with 2 Axes>"
      ]
     },
     "metadata": {
      "needs_background": "light"
     },
     "output_type": "display_data"
    }
   ],
   "source": [
    "# Let's visualize the efficiencies\n",
    "pts = np.linspace(20, 1000)\n",
    "etas = np.linspace(0, 2.5)\n",
    "pt, eta = np.meshgrid(pts, etas)\n",
    "\n",
    "flavor_tags = {0: \"LightJets\", 4: \"c-Jets\", 5: \"b-Jets\"}\n",
    "for i, flavor in enumerate([5, 4, 0]):\n",
    "    fig, ax = plt.subplots(figsize=(10, 7))\n",
    "    heatmap = ax.pcolormesh(pt, eta, efflookup(pt, eta, flavor), cmap='viridis', vmin=0, vmax=1)\n",
    "    cbar = fig.colorbar(heatmap)\n",
    "    ax.set_xlabel('$p_T$ [GeV]', fontsize=15)\n",
    "    ax.set_ylabel('$|\\eta|$', fontsize=15)\n",
    "    cbar.set_label(f'{flavor_tags[flavor]} b-tagging Efficiency', fontsize=15)"
   ]
  },
  {
   "cell_type": "code",
   "execution_count": 10,
   "id": "93df8dff-da57-4cc0-9fb2-689d0717da33",
   "metadata": {
    "tags": []
   },
   "outputs": [],
   "source": [
    "# Save efficiency lookup table for later use in the computation of the b-tagging weights\n",
    "output_path = f\"../analysis/data/btag_eff_deepJet_{wp}_{year}.coffea\"\n",
    "save(efflookup, output_path)"
   ]
  }
 ],
 "metadata": {
  "kernelspec": {
   "display_name": "Python 3",
   "language": "python",
   "name": "python3"
  },
  "language_info": {
   "codemirror_mode": {
    "name": "ipython",
    "version": 3
   },
   "file_extension": ".py",
   "mimetype": "text/x-python",
   "name": "python",
   "nbconvert_exporter": "python",
   "pygments_lexer": "ipython3",
   "version": "3.9.12"
  }
 },
 "nbformat": 4,
 "nbformat_minor": 5
}
