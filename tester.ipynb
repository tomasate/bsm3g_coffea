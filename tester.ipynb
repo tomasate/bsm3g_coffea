{
 "cells": [
  {
   "cell_type": "code",
   "execution_count": 1,
   "id": "85b4bf61-4ae1-4bb1-bc23-720773688ab4",
   "metadata": {
    "tags": []
   },
   "outputs": [
    {
     "data": {
      "application/vnd.jupyter.widget-view+json": {
       "model_id": "e080ef37b24f4dfda736c202b57ec1f9",
       "version_major": 2,
       "version_minor": 0
      },
      "text/plain": [
       "Output()"
      ]
     },
     "metadata": {},
     "output_type": "display_data"
    },
    {
     "data": {
      "text/html": [
       "<pre style=\"white-space:pre;overflow-x:auto;line-height:normal;font-family:Menlo,'DejaVu Sans Mono',consolas,'Courier New',monospace\"></pre>\n"
      ],
      "text/plain": []
     },
     "metadata": {},
     "output_type": "display_data"
    },
    {
     "data": {
      "application/vnd.jupyter.widget-view+json": {
       "model_id": "3e338fe5b3a942f897f015f5ed703abe",
       "version_major": 2,
       "version_minor": 0
      },
      "text/plain": [
       "Output()"
      ]
     },
     "metadata": {},
     "output_type": "display_data"
    },
    {
     "name": "stderr",
     "output_type": "stream",
     "text": [
      "/usr/local/lib/python3.10/site-packages/coffea/lookup_tools/doublecrystalball.py:160: RuntimeWarning: overflow encountered in power\n",
      "  - ((mH - 1) * (mH / betaH) ** (-mH) / eb2H * (1 - p) / N)\n",
      "/usr/local/lib/python3.10/site-packages/coffea/lookup_tools/doublecrystalball.py:160: RuntimeWarning: overflow encountered in power\n",
      "  - ((mH - 1) * (mH / betaH) ** (-mH) / eb2H * (1 - p) / N)\n",
      "/usr/local/lib/python3.10/site-packages/coffea/lookup_tools/doublecrystalball.py:173: RuntimeWarning: overflow encountered in power\n",
      "  - ((mL - 1) * (mL / betaL) ** (-mL) / eb2L * p / N) ** (1 / (1 - mL))\n",
      "/usr/local/lib/python3.10/site-packages/coffea/lookup_tools/doublecrystalball.py:173: RuntimeWarning: overflow encountered in power\n",
      "  - ((mL - 1) * (mL / betaL) ** (-mL) / eb2L * p / N) ** (1 / (1 - mL))\n",
      "/usr/local/lib/python3.10/site-packages/coffea/lookup_tools/doublecrystalball.py:160: RuntimeWarning: overflow encountered in power\n",
      "  - ((mH - 1) * (mH / betaH) ** (-mH) / eb2H * (1 - p) / N)\n"
     ]
    },
    {
     "data": {
      "text/html": [
       "<pre style=\"white-space:pre;overflow-x:auto;line-height:normal;font-family:Menlo,'DejaVu Sans Mono',consolas,'Courier New',monospace\"></pre>\n"
      ],
      "text/plain": []
     },
     "metadata": {},
     "output_type": "display_data"
    }
   ],
   "source": [
    "from analysis.processors.base import BaseProcessor\n",
    "from coffea.nanoevents import NanoAODSchema\n",
    "from coffea.processor import run_uproot_job, iterative_executor, futures_executor\n",
    "NanoAODSchema.warn_missing_crossrefs = False\n",
    "\n",
    "\n",
    "workflow = \"ztomumu\"\n",
    "year = \"2017\"\n",
    "dataset = \"DYJetsToLL_inclusive_50_1\"\n",
    "executor = \"futures\" # iterative\n",
    "\n",
    "\n",
    "fileset = {\n",
    "    \"2016preVFP\": {\n",
    "        \"DYJetsToLL_inclusive_50_1\": [\"root://xcache///store/mc/RunIISummer20UL16NanoAODAPVv9/DYJetsToLL_M-50_HT-70to100_TuneCP5_PSweights_13TeV-madgraphMLM-pythia8/NANOAODSIM/106X_mcRun2_asymptotic_preVFP_v11-v2/230000/0FEEC8CC-15E4-094E-B554-440C76A25697.root\"],\n",
    "        \"SingleMuonBv2_1\": [\"root://xcache///store/data/Run2016B/SingleMuon/NANOAOD/ver2_HIPM_UL2016_MiniAODv2_NanoAODv9-v2/2520000/0BDA2469-4879-A343-9F6D-2F05696FFC2A.root\", \"root://xcache///store/data/Run2016B/SingleMuon/NANOAOD/ver2_HIPM_UL2016_MiniAODv2_NanoAODv9-v2/2520000/30536D41-5D52-0640-A3F0-CF7C44FE4AB6.root\"],\n",
    "    },\n",
    "    \"2016postVFP\": {\n",
    "        \"DYJetsToLL_inclusive_50_1\": [\"root://xcache///store/mc/RunIISummer20UL16NanoAODAPVv9/DYJetsToLL_M-50_HT-70to100_TuneCP5_PSweights_13TeV-madgraphMLM-pythia8/NANOAODSIM/106X_mcRun2_asymptotic_preVFP_v11-v2/230000/0FEEC8CC-15E4-094E-B554-440C76A25697.root\"],\n",
    "        \"SingleMuonG_1\": [\"root://xcache///store/data/Run2016G/SingleMuon/NANOAOD/UL2016_MiniAODv2_NanoAODv9-v1/130000/0A4230E2-0C75-604D-890F-A4CE5E5C164E.root\"] ,\n",
    "    },\n",
    "    \"2017\": {\n",
    "        \"DYJetsToLL_inclusive_50_1\": [\"root://xcache//store/mc/RunIISummer20UL17NanoAODv9/DYJetsToLL_M-50_TuneCP5_13TeV-madgraphMLM-pythia8/NANOAODSIM/106X_mc2017_realistic_v9-v1/270000/FD918196-E5D8-5444-A397-9EF7E3458FBC.root\",],\n",
    "        \"TTTo2L2Nu_1\": [\"root://xcache//store/mc/RunIISummer20UL17NanoAODv9/TTTo2L2Nu_TuneCP5_13TeV-powheg-pythia8/NANOAODSIM/106X_mc2017_realistic_v9-v1/2510000/011F120E-2342-D046-A22B-88307336493B.root\"],\n",
    "        \"SingleMuonB_1\": [\"root://xcache//store/data/Run2017B/SingleMuon/NANOAOD/UL2017_MiniAODv2_NanoAODv9-v1/120000/09FD9FD6-A164-9A45-80BB-F3D1FBF9C462.root\"],\n",
    "        \"WJetsToLNu_HT-100To200\": [\n",
    "            \"root://xcache//store/mc/RunIISummer20UL17NanoAODv9/WJetsToLNu_HT-100To200_TuneCP5_13TeV-madgraphMLM-pythia8/NANOAODSIM/106X_mc2017_realistic_v9-v1/130000/897C9752-2AD8-FE43-86CB-AD37E253FF77.root\",\n",
    "            \"root://xcache//store/mc/RunIISummer20UL17NanoAODv9/WJetsToLNu_HT-100To200_TuneCP5_13TeV-madgraphMLM-pythia8/NANOAODSIM/106X_mc2017_realistic_v9-v1/130000/8D2DB9B2-D0B3-A346-B8B9-1094BF51ACC7.root\"\n",
    "        ]\n",
    "    },\n",
    "    \"2018\": {\n",
    "        \"DYJetsToLL_inclusive_50_1\": [\"root://xcache//store/mc/RunIISummer20UL18NanoAODv2/DYJetsToLL_M-50_TuneCP5_13TeV-madgraphMLM-pythia8/NANOAODSIM/106X_upgrade2018_realistic_v15_L1v1-v1/270000/0262164B-9CA8-8F44-A9B9-2E0056FD9428.root\"],\n",
    "        \"SingleMuonA_1\": [\"root://xcache//store/data/Run2018A/SingleMuon/NANOAOD/UL2018_MiniAODv2_NanoAODv9-v2/2550000/00EBBD1F-032C-9B49-A998-7645C9966432.root\", \"root://xcache//store/data/Run2018A/SingleMuon/NANOAOD/UL2018_MiniAODv2_NanoAODv9-v2/2550000/28FF17A8-95EB-FD41-A55B-2EFAF2D6AF91.root\"]\n",
    "    },\n",
    "    \"2022preEE\": {\n",
    "        \"DYJetsToLL_inclusive_50_1\": [\"root://xcache//store/mc/Run3Summer22NanoAODv12/DYto2L-2Jets_MLL-50_TuneCP5_13p6TeV_amcatnloFXFX-pythia8/NANOAODSIM/130X_mcRun3_2022_realistic_v5-v2/2520000/181836d0-879c-4c05-93c1-69956def2efb.root\"],\n",
    "        \"MuonC_1\": [\"root://xcache//store/data/Run2022C/Muon/NANOAOD/22Sep2023-v1/2520000/393889f7-173f-48ba-ad46-94828a4ee4b2.root\"],\n",
    "        \"TTto2L2Nu_1\": [\"root://xcache//store/mc/Run3Summer22NanoAODv12/TTto2L2Nu_TuneCP5_13p6TeV_powheg-pythia8/NANOAODSIM/130X_mcRun3_2022_realistic_v5-v2/2520000/66b834d6-61f7-4109-b5ae-54a150d4814b.root\"]\n",
    "    },\n",
    "    \"2022postEE\": {\n",
    "        \"DYJetsToLL_inclusive_50_1\": [\"root://xcache//store/mc/Run3Summer22EENanoAODv12/DYto2L-2Jets_MLL-50_TuneCP5_13p6TeV_amcatnloFXFX-pythia8/NANOAODSIM/130X_mcRun3_2022_realistic_postEE_v6-v2/2520000/098581d9-40df-4e56-9e33-f5d452fa4ee3.root\"],\n",
    "        \"TTTo2L2Nu_1\": [\"root://xcache//store/mc/Run3Summer22EENanoAODv12/TTto2L2Nu_TuneCP5_13p6TeV_powheg-pythia8/NANOAODSIM/130X_mcRun3_2022_realistic_postEE_v6-v2/2520000/07a6b4e8-a99d-4cd4-8ab0-9a51635f6a6f.root\"],\n",
    "        \"MuonE_1\": [\"root://xcache//store/data/Run2022E/Muon/NANOAOD/22Sep2023-v1/2540000/008c09fc-b37d-4aba-b20e-dab8eb9c4193.root\"]\n",
    "    },\n",
    "    \"2023preBPix\": {\n",
    "        \"DYJetsToLL_inclusive_50_1\": [\"root://xcache//store/mc/Run3Summer23NanoAODv12/DYto2L-2Jets_MLL-50_TuneCP5_13p6TeV_amcatnloFXFX-pythia8/NANOAODSIM/130X_mcRun3_2023_realistic_v14-v1/2550000/00da63ff-7a11-4939-b7d8-96610222c5c6.root\"],\n",
    "        \"TTTo2L2Nu_1\": [\"root://xcache//store/mc/Run3Summer23NanoAODv12/TTto2L2Nu_TuneCP5_13p6TeV_powheg-pythia8/NANOAODSIM/130X_mcRun3_2023_realistic_v14-v2/70000/01c164b9-8388-4aa3-b506-16ec245d2056.root\"],\n",
    "        \"Muon0v1C_1\": [\"root://xcache//store/data/Run2023C/Muon0/NANOAOD/22Sep2023_v1-v1/2530000/030eead5-93f9-405c-863c-a62244712e91.root\"],\n",
    "    },\n",
    "    \"2023postBPix\": {\n",
    "        \"DYJetsToLL_inclusive_50_1\": [\"root://xcache//store/mc/Run3Summer23BPixNanoAODv12/DYto2L-2Jets_MLL-50_TuneCP5_13p6TeV_amcatnloFXFX-pythia8/NANOAODSIM/130X_mcRun3_2023_realistic_postBPix_v2-v3/80000/03abf7f7-3b4e-4692-aa6d-e193a5a9760b.root\"],\n",
    "        \"TTTo2L2Nu_1\": [\"root://xcache//store/mc/Run3Summer23BPixNanoAODv12/TTto2L2Nu_TuneCP5_13p6TeV_powheg-pythia8/NANOAODSIM/130X_mcRun3_2023_realistic_postBPix_v2-v3/2550000/1fc49961-22ba-4b79-86d7-e85128f21146.root\"],\n",
    "        \"Muon0v1D_1\": [\"root://xcache//store/data/Run2023D/Muon0/NANOAOD/22Sep2023_v1-v1/2530000/1e128515-6052-43f3-a348-3353cb63a612.root\"],\n",
    "    }\n",
    "}\n",
    "\n",
    "out = run_uproot_job(\n",
    "    {dataset: fileset[year][dataset]},\n",
    "    treename=\"Events\",\n",
    "    processor_instance=BaseProcessor(\n",
    "        workflow=workflow, \n",
    "        year=year,\n",
    "    ),\n",
    "    executor=iterative_executor if executor == \"iterative\" else futures_executor,\n",
    "    executor_args={\n",
    "        \"schema\": NanoAODSchema,\n",
    "        \"workers\": 1 if executor == \"iterative\" else 4,\n",
    "    }\n",
    ")"
   ]
  },
  {
   "cell_type": "code",
   "execution_count": 2,
   "id": "d17eb05e-876e-4f81-a07b-0d57602261c8",
   "metadata": {
    "tags": []
   },
   "outputs": [
    {
     "data": {
      "text/plain": [
       "{'sumw': 1282722.0,\n",
       " 'base': {'cutflow': {'initial': 1282722.0,\n",
       "   'goodvertex': 1245521.706463437,\n",
       "   'lumi': 1245521.706463437,\n",
       "   'trigger': 248187.7851614693,\n",
       "   'trigger_match': 247966.55763288226,\n",
       "   'two_muons': 146219.7762853565,\n",
       "   'leading_muon_pt': 140598.63767358,\n",
       "   'subleading_muon_pt': 138676.91148843436,\n",
       "   'one_dimuon': 135680.37225903413,\n",
       "   'electron_veto': 135627.84711427608,\n",
       "   'tau_veto': 135316.0407375189},\n",
       "  'weighted_final_nevents': 135316.0407375189}}"
      ]
     },
     "execution_count": 2,
     "metadata": {},
     "output_type": "execute_result"
    }
   ],
   "source": [
    "out[\"metadata\"]"
   ]
  },
  {
   "cell_type": "code",
   "execution_count": 3,
   "id": "03474763-e7ff-4353-a3cb-b9a015c72adc",
   "metadata": {},
   "outputs": [
    {
     "data": {
      "text/plain": [
       "{'vertex_multiplicity': Hist(\n",
       "   Integer(0, 60, name='vertex_multiplicity', label='vertex multiplicity'),\n",
       "   StrCategory(['nominal', 'CMS_pileupUp', 'CMS_eff_m_iso_2017Up', 'ps_isrUp', 'CMS_eff_m_trigger_2017Up', 'CMS_eff_m_id_2017Down', 'CMS_pileupDown', 'CMS_eff_m_reco_2017Down', 'ps_fsrUp', 'CMS_eff_m_reco_2017Up', 'ps_isrDown', 'CMS_l1_ecal_prefiring_2017Up', 'CMS_l1_ecal_prefiring_2017Down', 'ps_fsrDown', 'CMS_eff_m_id_2017Up', 'CMS_eff_m_iso_2017Down', 'CMS_eff_m_trigger_2017Down'], growth=True, name='variation'),\n",
       "   storage=Weight()) # Sum: WeightedSum(value=2.29966e+06, variance=2.28058e+06) (WeightedSum(value=2.30029e+06, variance=2.28152e+06) with flow),\n",
       " 'isr': Hist(\n",
       "   Variable(array([   0.,   20.,   40.,   60.,   80.,  100.,  120.,  140.,  160.,\n",
       "         180.,  200.,  225.,  250.,  275.,  300.,  325.,  350.,  375.,\n",
       "         400.,  450.,  500.,  550.,  600.,  700.,  800., 1000.]), name='dimuon_pt', label='$p_T(\\\\mu\\\\mu)$ [GeV]'),\n",
       "   Integer(0, 14, name='jet_multiplicity', label='Jet multiplicity'),\n",
       "   StrCategory(['nominal', 'CMS_pileupUp', 'CMS_eff_m_iso_2017Up', 'ps_isrUp', 'CMS_eff_m_trigger_2017Up', 'CMS_eff_m_id_2017Down', 'CMS_pileupDown', 'CMS_eff_m_reco_2017Down', 'ps_fsrUp', 'CMS_eff_m_reco_2017Up', 'ps_isrDown', 'CMS_l1_ecal_prefiring_2017Up', 'CMS_l1_ecal_prefiring_2017Down', 'ps_fsrDown', 'CMS_eff_m_id_2017Up', 'CMS_eff_m_iso_2017Down', 'CMS_eff_m_trigger_2017Down'], growth=True, name='variation'),\n",
       "   storage=Weight()) # Sum: WeightedSum(value=2.30029e+06, variance=2.28152e+06),\n",
       " 'dimuon_mass': Hist(\n",
       "   Regular(24, 60, 120, name='dimuon_mass', label='$m(\\\\mu\\\\mu)$ [GeV]'),\n",
       "   StrCategory(['nominal', 'CMS_pileupUp', 'CMS_eff_m_iso_2017Up', 'ps_isrUp', 'CMS_eff_m_trigger_2017Up', 'CMS_eff_m_id_2017Down', 'CMS_pileupDown', 'CMS_eff_m_reco_2017Down', 'ps_fsrUp', 'CMS_eff_m_reco_2017Up', 'ps_isrDown', 'CMS_l1_ecal_prefiring_2017Up', 'CMS_l1_ecal_prefiring_2017Down', 'ps_fsrDown', 'CMS_eff_m_id_2017Up', 'CMS_eff_m_iso_2017Down', 'CMS_eff_m_trigger_2017Down'], growth=True, name='variation'),\n",
       "   storage=Weight()) # Sum: WeightedSum(value=2.30029e+06, variance=2.28152e+06),\n",
       " 'dimuon_delta': Hist(\n",
       "   Regular(50, 0, 5, name='dimuon_dr', label='$\\\\Delta R(\\\\mu_1, \\\\mu_2)$'),\n",
       "   Regular(50, 0, 5, name='dimuon_deta', label='$|\\\\Delta \\\\eta(\\\\mu_1, \\\\mu_2)|$'),\n",
       "   Regular(50, 0, 10, name='dimuon_dphi', label='$|\\\\Delta \\\\phi(\\\\mu_1, \\\\mu_2)|$'),\n",
       "   StrCategory(['nominal', 'CMS_pileupUp', 'CMS_eff_m_iso_2017Up', 'ps_isrUp', 'CMS_eff_m_trigger_2017Up', 'CMS_eff_m_id_2017Down', 'CMS_pileupDown', 'CMS_eff_m_reco_2017Down', 'ps_fsrUp', 'CMS_eff_m_reco_2017Up', 'ps_isrDown', 'CMS_l1_ecal_prefiring_2017Up', 'CMS_l1_ecal_prefiring_2017Down', 'ps_fsrDown', 'CMS_eff_m_id_2017Up', 'CMS_eff_m_iso_2017Down', 'CMS_eff_m_trigger_2017Down'], growth=True, name='variation'),\n",
       "   storage=Weight()) # Sum: WeightedSum(value=2.30029e+06, variance=2.28152e+06),\n",
       " 'leading_muon': Hist(\n",
       "   Variable([30, 60, 90, 120, 150, 180, 210, 240, 300, 500], name='leading_muon_pt', label='$p_T(\\\\mu_1)$ [GeV]'),\n",
       "   Regular(50, -2.5, 2.5, name='leading_muon_eta', label='$\\\\eta(\\\\mu_1)$'),\n",
       "   Regular(50, -3.14159, 3.14159, name='leading_muon_phi', label='$\\\\phi(\\\\mu_1)$'),\n",
       "   StrCategory(['nominal', 'CMS_pileupUp', 'CMS_eff_m_iso_2017Up', 'ps_isrUp', 'CMS_eff_m_trigger_2017Up', 'CMS_eff_m_id_2017Down', 'CMS_pileupDown', 'CMS_eff_m_reco_2017Down', 'ps_fsrUp', 'CMS_eff_m_reco_2017Up', 'ps_isrDown', 'CMS_l1_ecal_prefiring_2017Up', 'CMS_l1_ecal_prefiring_2017Down', 'ps_fsrDown', 'CMS_eff_m_id_2017Up', 'CMS_eff_m_iso_2017Down', 'CMS_eff_m_trigger_2017Down'], growth=True, name='variation'),\n",
       "   storage=Weight()) # Sum: WeightedSum(value=2.30021e+06, variance=2.28144e+06) (WeightedSum(value=2.30029e+06, variance=2.28152e+06) with flow),\n",
       " 'subleading_muon': Hist(\n",
       "   Variable([30, 60, 90, 120, 150, 180, 210, 240, 300, 500], name='subleading_muon_pt', label='$p_T(\\\\mu_2)$ [GeV]'),\n",
       "   Regular(50, -2.5, 2.5, name='subleading_muon_eta', label='$\\\\eta(\\\\mu_2)$'),\n",
       "   Regular(50, -3.14159, 3.14159, name='subleading_muon_phi', label='$\\\\phi(\\\\mu_2)$'),\n",
       "   StrCategory(['nominal', 'CMS_pileupUp', 'CMS_eff_m_iso_2017Up', 'ps_isrUp', 'CMS_eff_m_trigger_2017Up', 'CMS_eff_m_id_2017Down', 'CMS_pileupDown', 'CMS_eff_m_reco_2017Down', 'ps_fsrUp', 'CMS_eff_m_reco_2017Up', 'ps_isrDown', 'CMS_l1_ecal_prefiring_2017Up', 'CMS_l1_ecal_prefiring_2017Down', 'ps_fsrDown', 'CMS_eff_m_id_2017Up', 'CMS_eff_m_iso_2017Down', 'CMS_eff_m_trigger_2017Down'], growth=True, name='variation'),\n",
       "   storage=Weight()) # Sum: WeightedSum(value=2.30018e+06, variance=2.2814e+06) (WeightedSum(value=2.30029e+06, variance=2.28152e+06) with flow),\n",
       " 'jet': Hist(\n",
       "   Variable([20, 60, 90, 120, 150, 180, 210, 240, 300, 500], name='jet_pt', label='$p_T(j)$ [GeV]'),\n",
       "   Regular(50, -2.5, 2.5, name='jet_eta', label='$\\\\eta(j)$'),\n",
       "   Regular(50, -3.14159, 3.14159, name='jet_phi', label='$\\\\phi(j)$'),\n",
       "   StrCategory(['nominal', 'CMS_pileupUp', 'CMS_eff_m_iso_2017Up', 'ps_isrUp', 'CMS_eff_m_trigger_2017Up', 'CMS_eff_m_id_2017Down', 'CMS_pileupDown', 'CMS_eff_m_reco_2017Down', 'ps_fsrUp', 'CMS_eff_m_reco_2017Up', 'ps_isrDown', 'CMS_l1_ecal_prefiring_2017Up', 'CMS_l1_ecal_prefiring_2017Down', 'ps_fsrDown', 'CMS_eff_m_id_2017Up', 'CMS_eff_m_iso_2017Down', 'CMS_eff_m_trigger_2017Down'], growth=True, name='variation'),\n",
       "   storage=Weight()) # Sum: WeightedSum(value=1.32185e+06, variance=1.33691e+06) (WeightedSum(value=1.32188e+06, variance=1.33695e+06) with flow),\n",
       " 'jet_delta': Hist(\n",
       "   Regular(50, 0, 5, name='jet_dr', label='$\\\\Delta R(j_1, j_2)$'),\n",
       "   Regular(50, 0, 5, name='jet_deta', label='$|\\\\Delta \\\\eta(j_1, j_2)|$'),\n",
       "   StrCategory(['nominal', 'CMS_pileupUp', 'CMS_eff_m_iso_2017Up', 'ps_isrUp', 'CMS_eff_m_trigger_2017Up', 'CMS_eff_m_id_2017Down', 'CMS_pileupDown', 'CMS_eff_m_reco_2017Down', 'ps_fsrUp', 'CMS_eff_m_reco_2017Up', 'ps_isrDown', 'CMS_l1_ecal_prefiring_2017Up', 'CMS_l1_ecal_prefiring_2017Down', 'ps_fsrDown', 'CMS_eff_m_id_2017Up', 'CMS_eff_m_iso_2017Down', 'CMS_eff_m_trigger_2017Down'], growth=True, name='variation'),\n",
       "   storage=Weight()) # Sum: WeightedSum(value=296990, variance=302516) (WeightedSum(value=2.30029e+06, variance=2.28152e+06) with flow),\n",
       " 'met': Hist(\n",
       "   Variable(array([   0.,   10.,   20.,   30.,   40.,   50.,   60.,   70.,   80.,\n",
       "          90.,  100.,  110.,  120.,  140.,  160.,  170.,  180.,  190.,\n",
       "         200.,  210.,  220.,  230.,  240.,  250.,  260.,  270.,  280.,\n",
       "         290.,  300.,  320.,  340.,  360.,  380.,  400.,  450.,  500.,\n",
       "        1000.]), name='met_pt', label='$p_T^{miss}$ [GeV]'),\n",
       "   Regular(50, -3.14159, 3.14159, name='met_phi', label='$\\\\phi(p_T^{miss})$'),\n",
       "   StrCategory(['nominal', 'CMS_pileupUp', 'CMS_eff_m_iso_2017Up', 'ps_isrUp', 'CMS_eff_m_trigger_2017Up', 'CMS_eff_m_id_2017Down', 'CMS_pileupDown', 'CMS_eff_m_reco_2017Down', 'ps_fsrUp', 'CMS_eff_m_reco_2017Up', 'ps_isrDown', 'CMS_l1_ecal_prefiring_2017Up', 'CMS_l1_ecal_prefiring_2017Down', 'ps_fsrDown', 'CMS_eff_m_id_2017Up', 'CMS_eff_m_iso_2017Down', 'CMS_eff_m_trigger_2017Down'], growth=True, name='variation'),\n",
       "   storage=Weight()) # Sum: WeightedSum(value=2.30029e+06, variance=2.28152e+06)}"
      ]
     },
     "execution_count": 3,
     "metadata": {},
     "output_type": "execute_result"
    }
   ],
   "source": [
    "out[\"histograms\"]"
   ]
  }
 ],
 "metadata": {
  "kernelspec": {
   "display_name": "Python 3 (ipykernel)",
   "language": "python",
   "name": "python3"
  },
  "language_info": {
   "codemirror_mode": {
    "name": "ipython",
    "version": 3
   },
   "file_extension": ".py",
   "mimetype": "text/x-python",
   "name": "python",
   "nbconvert_exporter": "python",
   "pygments_lexer": "ipython3",
   "version": "3.10.14"
  }
 },
 "nbformat": 4,
 "nbformat_minor": 5
}
